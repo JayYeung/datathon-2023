{
 "cells": [
  {
   "cell_type": "code",
   "execution_count": 14,
   "metadata": {},
   "outputs": [
    {
     "name": "stdout",
     "output_type": "stream",
     "text": [
      "25200\n",
      "(128, 128)\n"
     ]
    }
   ],
   "source": [
    "import cv2\n",
    "import os\n",
    "import numpy as np\n",
    "\n",
    "directory_path = 'MCI/video_sequence'\n",
    "frame_list = []\n",
    "\n",
    "width = height = 128\n",
    "\n",
    "for filename in os.listdir(directory_path):\n",
    "    if filename.endswith(\".avi\"):\n",
    "        video_path = os.path.join(directory_path, filename)\n",
    "        cap = cv2.VideoCapture(video_path)\n",
    "\n",
    "        while cap.isOpened():\n",
    "            ret, frame = cap.read()\n",
    "            if not ret:\n",
    "                break\n",
    "\n",
    "            # Convert frame to grayscale\n",
    "            gray_frame = cv2.cvtColor(frame, cv2.COLOR_BGR2GRAY)\n",
    "\n",
    "            # Resize the frame\n",
    "            resized_frame = cv2.resize(gray_frame, (width, height))\n",
    "\n",
    "            # Add the frame to the list\n",
    "            frame_list.append(resized_frame)\n",
    "\n",
    "        cap.release()\n",
    "\n",
    "cv2.destroyAllWindows()\n",
    "\n",
    "# Checking the shape of the first frame in the list\n",
    "print(len(frame_list))\n",
    "print(frame_list[0].shape)  # Should output: (32, 32)"
   ]
  },
  {
   "cell_type": "code",
   "execution_count": 15,
   "metadata": {},
   "outputs": [
    {
     "name": "stdout",
     "output_type": "stream",
     "text": [
      "(25200, 128, 128, 1)\n"
     ]
    }
   ],
   "source": [
    "# Convert list to NumPy array and add an extra dimension\n",
    "X_train = np.array(frame_list, dtype=np.float32)[..., np.newaxis]\n",
    "\n",
    "# Normalize the data to the range [0, 1]\n",
    "X_train = X_train / 255.0\n",
    "\n",
    "print(X_train.shape)  # Should output: (num_frames, 32, 32, 1)\n"
   ]
  },
  {
   "cell_type": "code",
   "execution_count": 16,
   "metadata": {},
   "outputs": [],
   "source": [
    "from tensorflow.keras.layers import Conv2D, Conv2DTranspose, Input, LeakyReLU, BatchNormalization, Reshape, Flatten, Dense\n",
    "from tensorflow.keras.models import Model\n",
    "\n",
    "def build_autoencoder(input_shape):\n",
    "    # Encoder\n",
    "    input_layer = Input(shape=input_shape)\n",
    "    x = Conv2D(32, (3, 3), strides=2, padding='same')(input_layer)\n",
    "    x = LeakyReLU(alpha=0.2)(x)\n",
    "    x = BatchNormalization()(x)\n",
    "\n",
    "    x = Conv2D(64, (3, 3), strides=2, padding='same')(x)\n",
    "    x = LeakyReLU(alpha=0.2)(x)\n",
    "    x = BatchNormalization()(x)\n",
    "\n",
    "    # Flatten and bottleneck\n",
    "    volume_size = x.shape\n",
    "    x = Flatten()(x)\n",
    "    latent = Dense(100)(x)  # Latent vector\n",
    "\n",
    "    # Decoder\n",
    "    x = Dense(np.prod(volume_size[1:]))(latent)\n",
    "    x = Reshape((volume_size[1], volume_size[2], volume_size[3]))(x)\n",
    "\n",
    "    x = Conv2DTranspose(64, (3, 3), strides=2, padding='same')(x)\n",
    "    x = LeakyReLU(alpha=0.2)(x)\n",
    "    x = BatchNormalization()(x)\n",
    "\n",
    "    x = Conv2DTranspose(32, (3, 3), strides=2, padding='same')(x)\n",
    "    x = LeakyReLU(alpha=0.2)(x)\n",
    "    x = BatchNormalization()(x)\n",
    "\n",
    "    output_layer = Conv2DTranspose(3, (3, 3), activation='sigmoid', padding='same')(x)\n",
    "\n",
    "    autoencoder = Model(input_layer, output_layer)\n",
    "    return autoencoder"
   ]
  },
  {
   "cell_type": "code",
   "execution_count": 17,
   "metadata": {},
   "outputs": [
    {
     "name": "stdout",
     "output_type": "stream",
     "text": [
      "Epoch 1/50\n",
      "788/788 [==============================] - 202s 255ms/step - loss: 0.0062\n",
      "Epoch 2/50\n",
      "788/788 [==============================] - 194s 246ms/step - loss: 0.0040\n",
      "Epoch 3/50\n",
      "788/788 [==============================] - 196s 248ms/step - loss: 0.0037\n",
      "Epoch 4/50\n",
      "788/788 [==============================] - 282s 358ms/step - loss: 0.0035\n",
      "Epoch 5/50\n",
      "788/788 [==============================] - 493s 626ms/step - loss: 0.0034\n",
      "Epoch 6/50\n",
      "788/788 [==============================] - 376s 476ms/step - loss: 0.0033\n",
      "Epoch 7/50\n",
      "788/788 [==============================] - 211s 268ms/step - loss: 0.0032\n",
      "Epoch 8/50\n",
      "788/788 [==============================] - 157s 199ms/step - loss: 0.0031\n",
      "Epoch 9/50\n",
      "788/788 [==============================] - 161s 204ms/step - loss: 0.0031\n",
      "Epoch 10/50\n",
      "788/788 [==============================] - 158s 201ms/step - loss: 0.0030\n",
      "Epoch 11/50\n",
      "788/788 [==============================] - 163s 207ms/step - loss: 0.0030\n",
      "Epoch 12/50\n",
      "788/788 [==============================] - 162s 205ms/step - loss: 0.0029\n",
      "Epoch 13/50\n",
      "788/788 [==============================] - 158s 201ms/step - loss: 0.0029\n",
      "Epoch 14/50\n",
      "788/788 [==============================] - 190s 241ms/step - loss: 0.0028\n",
      "Epoch 15/50\n",
      "788/788 [==============================] - 229s 291ms/step - loss: 0.0028\n",
      "Epoch 16/50\n",
      "788/788 [==============================] - 155s 196ms/step - loss: 0.0028\n",
      "Epoch 17/50\n",
      "788/788 [==============================] - 160s 203ms/step - loss: 0.0028\n",
      "Epoch 18/50\n",
      "788/788 [==============================] - 194s 246ms/step - loss: 0.0027\n",
      "Epoch 19/50\n",
      "788/788 [==============================] - 371s 471ms/step - loss: 0.0027\n",
      "Epoch 20/50\n",
      "788/788 [==============================] - 344s 437ms/step - loss: 0.0027\n",
      "Epoch 21/50\n",
      "788/788 [==============================] - 359s 455ms/step - loss: 0.0027\n",
      "Epoch 22/50\n",
      "788/788 [==============================] - 368s 466ms/step - loss: 0.0027\n",
      "Epoch 23/50\n",
      "788/788 [==============================] - 345s 438ms/step - loss: 0.0027\n",
      "Epoch 24/50\n",
      "788/788 [==============================] - 320s 406ms/step - loss: 0.0027\n",
      "Epoch 25/50\n",
      "788/788 [==============================] - 149s 189ms/step - loss: 0.0027\n",
      "Epoch 26/50\n",
      "788/788 [==============================] - 147s 186ms/step - loss: 0.0026\n",
      "Epoch 27/50\n",
      "788/788 [==============================] - 147s 187ms/step - loss: 0.0026\n",
      "Epoch 28/50\n",
      "788/788 [==============================] - 146s 185ms/step - loss: 0.0026\n",
      "Epoch 29/50\n",
      "788/788 [==============================] - 154s 196ms/step - loss: 0.0026\n",
      "Epoch 30/50\n",
      "788/788 [==============================] - 153s 195ms/step - loss: 0.0026\n",
      "Epoch 31/50\n",
      "788/788 [==============================] - 148s 188ms/step - loss: 0.0026\n",
      "Epoch 32/50\n",
      "788/788 [==============================] - 149s 189ms/step - loss: 0.0026\n",
      "Epoch 33/50\n",
      "788/788 [==============================] - 150s 190ms/step - loss: 0.0026\n",
      "Epoch 34/50\n",
      "788/788 [==============================] - 149s 189ms/step - loss: 0.0026\n",
      "Epoch 35/50\n",
      "788/788 [==============================] - 148s 187ms/step - loss: 0.0026\n",
      "Epoch 36/50\n",
      "788/788 [==============================] - 143s 181ms/step - loss: 0.0026\n",
      "Epoch 37/50\n",
      "788/788 [==============================] - 150s 190ms/step - loss: 0.0026\n",
      "Epoch 38/50\n",
      "788/788 [==============================] - 146s 186ms/step - loss: 0.0026\n",
      "Epoch 39/50\n",
      "788/788 [==============================] - 153s 194ms/step - loss: 0.0026\n",
      "Epoch 40/50\n",
      "788/788 [==============================] - 152s 192ms/step - loss: 0.0026\n",
      "Epoch 41/50\n",
      "788/788 [==============================] - 178s 226ms/step - loss: 0.0026\n",
      "Epoch 42/50\n",
      "788/788 [==============================] - 169s 214ms/step - loss: 0.0025\n",
      "Epoch 43/50\n",
      "788/788 [==============================] - 154s 196ms/step - loss: 0.0026\n",
      "Epoch 44/50\n",
      "788/788 [==============================] - 153s 194ms/step - loss: 0.0025\n",
      "Epoch 45/50\n",
      "788/788 [==============================] - 149s 189ms/step - loss: 0.0025\n",
      "Epoch 46/50\n",
      "788/788 [==============================] - 152s 193ms/step - loss: 0.0025\n",
      "Epoch 47/50\n",
      "788/788 [==============================] - 152s 193ms/step - loss: 0.0025\n",
      "Epoch 48/50\n",
      "788/788 [==============================] - 147s 187ms/step - loss: 0.0025\n",
      "Epoch 49/50\n",
      "788/788 [==============================] - 149s 189ms/step - loss: 0.0025\n",
      "Epoch 50/50\n",
      "788/788 [==============================] - 153s 194ms/step - loss: 0.0025\n"
     ]
    },
    {
     "data": {
      "text/plain": [
       "<keras.src.callbacks.History at 0x2900716d0>"
      ]
     },
     "execution_count": 17,
     "metadata": {},
     "output_type": "execute_result"
    }
   ],
   "source": [
    "autoencoder = build_autoencoder(X_train.shape[1:])\n",
    "autoencoder.compile(optimizer='adam', loss='mse')\n",
    "\n",
    "# Train the autoencoder\n",
    "autoencoder.fit(X_train, X_train, epochs=50, batch_size=32)\n"
   ]
  },
  {
   "cell_type": "code",
   "execution_count": 18,
   "metadata": {},
   "outputs": [
    {
     "name": "stdout",
     "output_type": "stream",
     "text": [
      "788/788 [==============================] - 53s 67ms/step\n"
     ]
    },
    {
     "data": {
      "text/plain": [
       "array([[[0.3124812 , 0.31260705, 0.3125659 ],\n",
       "        [0.29696283, 0.29670897, 0.29642186],\n",
       "        [0.28836015, 0.28825578, 0.28828672],\n",
       "        ...,\n",
       "        [0.18505482, 0.18422222, 0.18404385],\n",
       "        [0.03113667, 0.03111639, 0.03120033],\n",
       "        [0.01733206, 0.01732087, 0.01736838]],\n",
       "\n",
       "       [[0.29720902, 0.29727957, 0.29731882],\n",
       "        [0.29725787, 0.29696447, 0.2969375 ],\n",
       "        [0.2901945 , 0.2900471 , 0.29038796],\n",
       "        ...,\n",
       "        [0.15809752, 0.15764263, 0.15818255],\n",
       "        [0.02192572, 0.0219703 , 0.02214774],\n",
       "        [0.00663956, 0.00664839, 0.00667809]],\n",
       "\n",
       "       [[0.31240126, 0.31234285, 0.3123976 ],\n",
       "        [0.31725824, 0.31740057, 0.31745222],\n",
       "        [0.30147895, 0.30159974, 0.30154237],\n",
       "        ...,\n",
       "        [0.14204542, 0.14242998, 0.1429463 ],\n",
       "        [0.03102745, 0.03117166, 0.0313081 ],\n",
       "        [0.01254548, 0.01258845, 0.01259073]],\n",
       "\n",
       "       ...,\n",
       "\n",
       "       [[0.310113  , 0.31013265, 0.31017902],\n",
       "        [0.31257302, 0.31253776, 0.3126865 ],\n",
       "        [0.28497583, 0.28488323, 0.28498206],\n",
       "        ...,\n",
       "        [0.17252563, 0.1713072 , 0.1708613 ],\n",
       "        [0.02528091, 0.02523345, 0.02523494],\n",
       "        [0.00410159, 0.00410809, 0.0041219 ]],\n",
       "\n",
       "       [[0.30713713, 0.30723235, 0.30723906],\n",
       "        [0.30285957, 0.30308118, 0.30331114],\n",
       "        [0.2897754 , 0.28979632, 0.2898123 ],\n",
       "        ...,\n",
       "        [0.16385145, 0.16331163, 0.1642882 ],\n",
       "        [0.01889935, 0.01873716, 0.01876599],\n",
       "        [0.00249369, 0.00249894, 0.00251241]],\n",
       "\n",
       "       [[0.3114889 , 0.31151626, 0.31152552],\n",
       "        [0.2965591 , 0.29684094, 0.29698864],\n",
       "        [0.29108188, 0.29120067, 0.29105395],\n",
       "        ...,\n",
       "        [0.16812754, 0.16942105, 0.17073533],\n",
       "        [0.02207387, 0.02202294, 0.02197301],\n",
       "        [0.00189251, 0.00189644, 0.00189933]]], dtype=float32)"
      ]
     },
     "execution_count": 18,
     "metadata": {},
     "output_type": "execute_result"
    }
   ],
   "source": [
    "decoded_frames = autoencoder.predict(X_train)\n",
    "decoded_frames[0]"
   ]
  },
  {
   "cell_type": "code",
   "execution_count": 19,
   "metadata": {},
   "outputs": [
    {
     "data": {
      "application/vnd.jupyter.widget-view+json": {
       "model_id": "0b210c6312a149a4bbc063f5e3ec2895",
       "version_major": 2,
       "version_minor": 0
      },
      "text/plain": [
       "interactive(children=(IntSlider(value=0, description='Frame:', max=25199), Output()), _dom_classes=('widget-in…"
      ]
     },
     "execution_count": 19,
     "metadata": {},
     "output_type": "execute_result"
    }
   ],
   "source": [
    "import matplotlib.pyplot as plt\n",
    "import ipywidgets as widgets\n",
    "from IPython.display import display\n",
    "\n",
    "def show_frame(frame_index):\n",
    "    frame = decoded_frames[frame_index]\n",
    "\n",
    "    # Rescale if the frames are normalized\n",
    "    if frame.max() <= 1.0:\n",
    "        frame = frame * 255.0\n",
    "\n",
    "    # Use 'gray' color map if the images are grayscale\n",
    "    plt.imshow(frame.astype('uint8'), cmap='gray')\n",
    "    plt.axis('off')\n",
    "    plt.show()\n",
    "\n",
    "\n",
    "# Create a slider to browse through the frames\n",
    "frame_slider = widgets.IntSlider(value=0, min=0, max=len(decoded_frames)-1, step=1, description='Frame:')\n",
    "\n",
    "# Display the widget\n",
    "widgets.interactive(show_frame, frame_index=frame_slider)"
   ]
  },
  {
   "cell_type": "code",
   "execution_count": 21,
   "metadata": {},
   "outputs": [
    {
     "ename": "RuntimeError",
     "evalue": "Requested MovieWriter (ffmpeg) not available",
     "output_type": "error",
     "traceback": [
      "\u001b[0;31m---------------------------------------------------------------------------\u001b[0m",
      "\u001b[0;31mRuntimeError\u001b[0m                              Traceback (most recent call last)",
      "\u001b[1;32m/Users/Jay_Y/Desktop/datathon/auto-encoder/auto_encoder.ipynb Cell 7\u001b[0m line \u001b[0;36m3\n\u001b[1;32m     <a href='vscode-notebook-cell:/Users/Jay_Y/Desktop/datathon/auto-encoder/auto_encoder.ipynb#X12sZmlsZQ%3D%3D?line=27'>28</a>\u001b[0m \u001b[39m# Example usage\u001b[39;00m\n\u001b[1;32m     <a href='vscode-notebook-cell:/Users/Jay_Y/Desktop/datathon/auto-encoder/auto_encoder.ipynb#X12sZmlsZQ%3D%3D?line=28'>29</a>\u001b[0m save_path \u001b[39m=\u001b[39m \u001b[39m'\u001b[39m\u001b[39manimation.mp4\u001b[39m\u001b[39m'\u001b[39m  \u001b[39m# Specify your save path here\u001b[39;00m\n\u001b[0;32m---> <a href='vscode-notebook-cell:/Users/Jay_Y/Desktop/datathon/auto-encoder/auto_encoder.ipynb#X12sZmlsZQ%3D%3D?line=29'>30</a>\u001b[0m show_sequence(decoded_frames, save_path)\n",
      "\u001b[1;32m/Users/Jay_Y/Desktop/datathon/auto-encoder/auto_encoder.ipynb Cell 7\u001b[0m line \u001b[0;36m2\n\u001b[1;32m     <a href='vscode-notebook-cell:/Users/Jay_Y/Desktop/datathon/auto-encoder/auto_encoder.ipynb#X12sZmlsZQ%3D%3D?line=18'>19</a>\u001b[0m ani \u001b[39m=\u001b[39m FuncAnimation(fig, update_frame, frames\u001b[39m=\u001b[39m\u001b[39mlen\u001b[39m(decoded_frames), fargs\u001b[39m=\u001b[39m(decoded_frames, ax), interval\u001b[39m=\u001b[39m\u001b[39m100\u001b[39m)\n\u001b[1;32m     <a href='vscode-notebook-cell:/Users/Jay_Y/Desktop/datathon/auto-encoder/auto_encoder.ipynb#X12sZmlsZQ%3D%3D?line=20'>21</a>\u001b[0m \u001b[39m# Set up writer\u001b[39;00m\n\u001b[0;32m---> <a href='vscode-notebook-cell:/Users/Jay_Y/Desktop/datathon/auto-encoder/auto_encoder.ipynb#X12sZmlsZQ%3D%3D?line=21'>22</a>\u001b[0m Writer \u001b[39m=\u001b[39m animation\u001b[39m.\u001b[39;49mwriters[\u001b[39m'\u001b[39;49m\u001b[39mffmpeg\u001b[39;49m\u001b[39m'\u001b[39;49m]\n\u001b[1;32m     <a href='vscode-notebook-cell:/Users/Jay_Y/Desktop/datathon/auto-encoder/auto_encoder.ipynb#X12sZmlsZQ%3D%3D?line=22'>23</a>\u001b[0m writer \u001b[39m=\u001b[39m Writer(fps\u001b[39m=\u001b[39m\u001b[39m10\u001b[39m, metadata\u001b[39m=\u001b[39m\u001b[39mdict\u001b[39m(artist\u001b[39m=\u001b[39m\u001b[39m'\u001b[39m\u001b[39mMe\u001b[39m\u001b[39m'\u001b[39m), bitrate\u001b[39m=\u001b[39m\u001b[39m1800\u001b[39m)\n\u001b[1;32m     <a href='vscode-notebook-cell:/Users/Jay_Y/Desktop/datathon/auto-encoder/auto_encoder.ipynb#X12sZmlsZQ%3D%3D?line=24'>25</a>\u001b[0m \u001b[39m# Save to file\u001b[39;00m\n",
      "File \u001b[0;32m/opt/homebrew/lib/python3.11/site-packages/matplotlib/animation.py:148\u001b[0m, in \u001b[0;36mMovieWriterRegistry.__getitem__\u001b[0;34m(self, name)\u001b[0m\n\u001b[1;32m    146\u001b[0m \u001b[39mif\u001b[39;00m \u001b[39mself\u001b[39m\u001b[39m.\u001b[39mis_available(name):\n\u001b[1;32m    147\u001b[0m     \u001b[39mreturn\u001b[39;00m \u001b[39mself\u001b[39m\u001b[39m.\u001b[39m_registered[name]\n\u001b[0;32m--> 148\u001b[0m \u001b[39mraise\u001b[39;00m \u001b[39mRuntimeError\u001b[39;00m(\u001b[39mf\u001b[39m\u001b[39m\"\u001b[39m\u001b[39mRequested MovieWriter (\u001b[39m\u001b[39m{\u001b[39;00mname\u001b[39m}\u001b[39;00m\u001b[39m) not available\u001b[39m\u001b[39m\"\u001b[39m)\n",
      "\u001b[0;31mRuntimeError\u001b[0m: Requested MovieWriter (ffmpeg) not available"
     ]
    },
    {
     "data": {
      "image/png": "[encoded data removed]",
      "text/plain": [
       "<Figure size 640x480 with 1 Axes>"
      ]
     },
     "metadata": {},
     "output_type": "display_data"
    }
   ],
   "source": [
    "import matplotlib.pyplot as plt\n",
    "from matplotlib.animation import FuncAnimation\n",
    "import matplotlib.animation as animation\n",
    "\n",
    "def update_frame(frame_index, decoded_frames, ax):\n",
    "    ax.clear()\n",
    "    frame = decoded_frames[frame_index]\n",
    "\n",
    "    # Rescale if the frames are normalized\n",
    "    if frame.max() <= 1.0:\n",
    "        frame *= 255.0\n",
    "\n",
    "    # Use 'gray' color map if the images are grayscale\n",
    "    ax.imshow(frame.astype('uint8'), cmap='gray')\n",
    "    ax.axis('off')\n",
    "\n",
    "def show_sequence(decoded_frames, save_path):\n",
    "    fig, ax = plt.subplots()\n",
    "    ani = FuncAnimation(fig, update_frame, frames=len(decoded_frames), fargs=(decoded_frames, ax), interval=100)\n",
    "\n",
    "    # Set up writer\n",
    "    Writer = animation.writers['ffmpeg']\n",
    "    writer = Writer(fps=10, metadata=dict(artist='Me'), bitrate=1800)\n",
    "\n",
    "    # Save to file\n",
    "    ani.save(save_path, writer=writer)\n",
    "\n",
    "# Example usage\n",
    "save_path = 'animation.mp4'  # Specify your save path here\n",
    "show_sequence(decoded_frames, save_path)\n"
   ]
  },
  {
   "cell_type": "code",
   "execution_count": 23,
   "metadata": {},
   "outputs": [
    {
     "name": "stderr",
     "output_type": "stream",
     "text": [
      "2023-11-11 21:30:53.956 Python[71416:3184902] WARNING: Secure coding is not enabled for restorable state! Enable secure coding by implementing NSApplicationDelegate.applicationSupportsSecureRestorableState: and returning YES.\n"
     ]
    }
   ],
   "source": [
    "import cv2\n",
    "\n",
    "for frame in decoded_frames:\n",
    "    # Convert frame to BGR if it's in grayscale or another format\n",
    "    if len(frame.shape) == 2 or frame.shape[2] == 1:\n",
    "        frame = cv2.cvtColor(frame, cv2.COLOR_GRAY2BGR)\n",
    "\n",
    "    # Display the frame\n",
    "    cv2.imshow('Frame', frame)\n",
    "\n",
    "    # Wait for 25 ms and break the loop with a keyboard interrupt\n",
    "    if cv2.waitKey(25) & 0xFF == ord('q'):\n",
    "        break\n",
    "\n",
    "# Close the window\n",
    "cv2.destroyAllWindows()\n"
   ]
  },
  {
   "cell_type": "code",
   "execution_count": null,
   "metadata": {},
   "outputs": [],
   "source": []
  }
 ],
 "metadata": {
  "kernelspec": {
   "display_name": "Python 3",
   "language": "python",
   "name": "python3"
  },
  "language_info": {
   "codemirror_mode": {
    "name": "ipython",
    "version": 3
   },
   "file_extension": ".py",
   "mimetype": "text/x-python",
   "name": "python",
   "nbconvert_exporter": "python",
   "pygments_lexer": "ipython3",
   "version": "3.11.4"
  }
 },
 "nbformat": 4,
 "nbformat_minor": 2
}
