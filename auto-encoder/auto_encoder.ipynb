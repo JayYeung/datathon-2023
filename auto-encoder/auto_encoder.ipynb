{
 "cells": [
  {
   "cell_type": "code",
   "execution_count": 4,
   "metadata": {},
   "outputs": [],
   "source": [
    "import cv2\n",
    "import os\n",
    "\n",
    "directory_path = 'MCI/video_sequence'"
   ]
  },
  {
   "cell_type": "code",
   "execution_count": 6,
   "metadata": {},
   "outputs": [
    {
     "name": "stdout",
     "output_type": "stream",
     "text": [
      "25200\n",
      "(32, 32)\n"
     ]
    }
   ],
   "source": [
    "import cv2\n",
    "import os\n",
    "import numpy as np\n",
    "\n",
    "directory_path = 'MCI/video_sequence'\n",
    "frame_list = []\n",
    "\n",
    "width = height = 32\n",
    "\n",
    "for filename in os.listdir(directory_path):\n",
    "    if filename.endswith(\".avi\"):\n",
    "        video_path = os.path.join(directory_path, filename)\n",
    "        cap = cv2.VideoCapture(video_path)\n",
    "\n",
    "        while cap.isOpened():\n",
    "            ret, frame = cap.read()\n",
    "            if not ret:\n",
    "                break\n",
    "\n",
    "            # Convert frame to grayscale\n",
    "            gray_frame = cv2.cvtColor(frame, cv2.COLOR_BGR2GRAY)\n",
    "\n",
    "            # Resize the frame\n",
    "            resized_frame = cv2.resize(gray_frame, (width, height))\n",
    "\n",
    "            # Add the frame to the list\n",
    "            frame_list.append(resized_frame)\n",
    "\n",
    "        cap.release()\n",
    "\n",
    "cv2.destroyAllWindows()\n",
    "\n",
    "# Checking the shape of the first frame in the list\n",
    "print(len(frame_list))\n",
    "print(frame_list[0].shape)  # Should output: (32, 32)"
   ]
  },
  {
   "cell_type": "code",
   "execution_count": 7,
   "metadata": {},
   "outputs": [
    {
     "name": "stdout",
     "output_type": "stream",
     "text": [
      "(25200, 32, 32, 1)\n"
     ]
    }
   ],
   "source": [
    "# Convert list to NumPy array and add an extra dimension\n",
    "X_train = np.array(frame_list, dtype=np.float32)[..., np.newaxis]\n",
    "\n",
    "# Normalize the data to the range [0, 1]\n",
    "X_train = X_train / 255.0\n",
    "\n",
    "print(X_train.shape)  # Should output: (num_frames, 32, 32, 1)\n"
   ]
  },
  {
   "cell_type": "code",
   "execution_count": 8,
   "metadata": {},
   "outputs": [],
   "source": [
    "from tensorflow.keras.layers import Conv2D, Conv2DTranspose, Input, LeakyReLU, BatchNormalization, Reshape, Flatten, Dense\n",
    "from tensorflow.keras.models import Model\n",
    "\n",
    "def build_autoencoder(input_shape):\n",
    "    # Encoder\n",
    "    input_layer = Input(shape=input_shape)\n",
    "    x = Conv2D(32, (3, 3), strides=2, padding='same')(input_layer)\n",
    "    x = LeakyReLU(alpha=0.2)(x)\n",
    "    x = BatchNormalization()(x)\n",
    "\n",
    "    x = Conv2D(64, (3, 3), strides=2, padding='same')(x)\n",
    "    x = LeakyReLU(alpha=0.2)(x)\n",
    "    x = BatchNormalization()(x)\n",
    "\n",
    "    # Flatten and bottleneck\n",
    "    volume_size = x.shape\n",
    "    x = Flatten()(x)\n",
    "    latent = Dense(100)(x)  # Latent vector\n",
    "\n",
    "    # Decoder\n",
    "    x = Dense(np.prod(volume_size[1:]))(latent)\n",
    "    x = Reshape((volume_size[1], volume_size[2], volume_size[3]))(x)\n",
    "\n",
    "    x = Conv2DTranspose(64, (3, 3), strides=2, padding='same')(x)\n",
    "    x = LeakyReLU(alpha=0.2)(x)\n",
    "    x = BatchNormalization()(x)\n",
    "\n",
    "    x = Conv2DTranspose(32, (3, 3), strides=2, padding='same')(x)\n",
    "    x = LeakyReLU(alpha=0.2)(x)\n",
    "    x = BatchNormalization()(x)\n",
    "\n",
    "    output_layer = Conv2DTranspose(3, (3, 3), activation='sigmoid', padding='same')(x)\n",
    "\n",
    "    autoencoder = Model(input_layer, output_layer)\n",
    "    return autoencoder"
   ]
  },
  {
   "cell_type": "code",
   "execution_count": 9,
   "metadata": {},
   "outputs": [
    {
     "name": "stdout",
     "output_type": "stream",
     "text": [
      "Epoch 1/50\n",
      "788/788 [==============================] - 14s 17ms/step - loss: 0.0064\n",
      "Epoch 2/50\n",
      "788/788 [==============================] - 16s 20ms/step - loss: 0.0040\n",
      "Epoch 3/50\n",
      "788/788 [==============================] - 15s 20ms/step - loss: 0.0037\n",
      "Epoch 4/50\n",
      "788/788 [==============================] - 15s 19ms/step - loss: 0.0034\n",
      "Epoch 5/50\n",
      "788/788 [==============================] - 15s 19ms/step - loss: 0.0033\n",
      "Epoch 6/50\n",
      "788/788 [==============================] - 15s 20ms/step - loss: 0.0032\n",
      "Epoch 7/50\n",
      "788/788 [==============================] - 15s 19ms/step - loss: 0.0031\n",
      "Epoch 8/50\n",
      "788/788 [==============================] - 15s 19ms/step - loss: 0.0030\n",
      "Epoch 9/50\n",
      "788/788 [==============================] - 15s 19ms/step - loss: 0.0029\n",
      "Epoch 10/50\n",
      "788/788 [==============================] - 15s 19ms/step - loss: 0.0029\n",
      "Epoch 11/50\n",
      "788/788 [==============================] - 15s 19ms/step - loss: 0.0029\n",
      "Epoch 12/50\n",
      "788/788 [==============================] - 15s 19ms/step - loss: 0.0028\n",
      "Epoch 13/50\n",
      "788/788 [==============================] - 15s 19ms/step - loss: 0.0028\n",
      "Epoch 14/50\n",
      "788/788 [==============================] - 14s 18ms/step - loss: 0.0028\n",
      "Epoch 15/50\n",
      "788/788 [==============================] - 15s 18ms/step - loss: 0.0027\n",
      "Epoch 16/50\n",
      "788/788 [==============================] - 15s 19ms/step - loss: 0.0027\n",
      "Epoch 17/50\n",
      "788/788 [==============================] - 15s 19ms/step - loss: 0.0027\n",
      "Epoch 18/50\n",
      "788/788 [==============================] - 16s 20ms/step - loss: 0.0027\n",
      "Epoch 19/50\n",
      "788/788 [==============================] - 15s 20ms/step - loss: 0.0027\n",
      "Epoch 20/50\n",
      "788/788 [==============================] - 16s 20ms/step - loss: 0.0027\n",
      "Epoch 21/50\n",
      "788/788 [==============================] - 15s 19ms/step - loss: 0.0026\n",
      "Epoch 22/50\n",
      "788/788 [==============================] - 15s 20ms/step - loss: 0.0026\n",
      "Epoch 23/50\n",
      "788/788 [==============================] - 15s 19ms/step - loss: 0.0026\n",
      "Epoch 24/50\n",
      "788/788 [==============================] - 15s 19ms/step - loss: 0.0026\n",
      "Epoch 25/50\n",
      "788/788 [==============================] - 15s 19ms/step - loss: 0.0026\n",
      "Epoch 26/50\n",
      "788/788 [==============================] - 15s 19ms/step - loss: 0.0026\n",
      "Epoch 27/50\n",
      "788/788 [==============================] - 15s 20ms/step - loss: 0.0026\n",
      "Epoch 28/50\n",
      "788/788 [==============================] - 15s 19ms/step - loss: 0.0026\n",
      "Epoch 29/50\n",
      "788/788 [==============================] - 15s 20ms/step - loss: 0.0026\n",
      "Epoch 30/50\n",
      "788/788 [==============================] - 16s 20ms/step - loss: 0.0026\n",
      "Epoch 31/50\n",
      "788/788 [==============================] - 16s 20ms/step - loss: 0.0026\n",
      "Epoch 32/50\n",
      "788/788 [==============================] - 15s 19ms/step - loss: 0.0026\n",
      "Epoch 33/50\n",
      "788/788 [==============================] - 15s 19ms/step - loss: 0.0025\n",
      "Epoch 34/50\n",
      "788/788 [==============================] - 16s 20ms/step - loss: 0.0025\n",
      "Epoch 35/50\n",
      "788/788 [==============================] - 16s 20ms/step - loss: 0.0025\n",
      "Epoch 36/50\n",
      "788/788 [==============================] - 16s 20ms/step - loss: 0.0025\n",
      "Epoch 37/50\n",
      "788/788 [==============================] - 15s 20ms/step - loss: 0.0025\n",
      "Epoch 38/50\n",
      "788/788 [==============================] - 15s 19ms/step - loss: 0.0025\n",
      "Epoch 39/50\n",
      "788/788 [==============================] - 16s 20ms/step - loss: 0.0025\n",
      "Epoch 40/50\n",
      "788/788 [==============================] - 16s 21ms/step - loss: 0.0025\n",
      "Epoch 41/50\n",
      "788/788 [==============================] - 16s 21ms/step - loss: 0.0025\n",
      "Epoch 42/50\n",
      "788/788 [==============================] - 20s 26ms/step - loss: 0.0025\n",
      "Epoch 43/50\n",
      "788/788 [==============================] - 17s 22ms/step - loss: 0.0025\n",
      "Epoch 44/50\n",
      "788/788 [==============================] - 16s 20ms/step - loss: 0.0025\n",
      "Epoch 45/50\n",
      "788/788 [==============================] - 16s 20ms/step - loss: 0.0025\n",
      "Epoch 46/50\n",
      "788/788 [==============================] - 16s 21ms/step - loss: 0.0025\n",
      "Epoch 47/50\n",
      "788/788 [==============================] - 17s 21ms/step - loss: 0.0025\n",
      "Epoch 48/50\n",
      "788/788 [==============================] - 16s 20ms/step - loss: 0.0025\n",
      "Epoch 49/50\n",
      "788/788 [==============================] - 17s 21ms/step - loss: 0.0025\n",
      "Epoch 50/50\n",
      "788/788 [==============================] - 17s 21ms/step - loss: 0.0025\n"
     ]
    },
    {
     "data": {
      "text/plain": [
       "<keras.src.callbacks.History at 0x2f676dc90>"
      ]
     },
     "execution_count": 9,
     "metadata": {},
     "output_type": "execute_result"
    }
   ],
   "source": [
    "autoencoder = build_autoencoder(X_train.shape[1:])\n",
    "autoencoder.compile(optimizer='adam', loss='mse')\n",
    "\n",
    "# Train the autoencoder\n",
    "autoencoder.fit(X_train, X_train, epochs=50, batch_size=32)\n"
   ]
  },
  {
   "cell_type": "code",
   "execution_count": 12,
   "metadata": {},
   "outputs": [
    {
     "name": "stdout",
     "output_type": "stream",
     "text": [
      "788/788 [==============================] - 4s 5ms/step\n"
     ]
    },
    {
     "data": {
      "text/plain": [
       "array([[[0.29616177, 0.29616177, 0.29616177],\n",
       "        [0.2533188 , 0.2533188 , 0.2533188 ],\n",
       "        [0.21353999, 0.21353999, 0.21353997],\n",
       "        ...,\n",
       "        [0.12446887, 0.12446887, 0.12446891],\n",
       "        [0.12110503, 0.12110502, 0.12110506],\n",
       "        [0.11860114, 0.1186011 , 0.11860114]],\n",
       "\n",
       "       [[0.3028541 , 0.30285412, 0.30285412],\n",
       "        [0.27956763, 0.27956763, 0.27956763],\n",
       "        [0.23336981, 0.23336981, 0.23336981],\n",
       "        ...,\n",
       "        [0.12343405, 0.12343403, 0.12343403],\n",
       "        [0.150978  , 0.15097794, 0.15097807],\n",
       "        [0.11387522, 0.11387517, 0.11387524]],\n",
       "\n",
       "       [[0.3104332 , 0.3104332 , 0.3104332 ],\n",
       "        [0.27450374, 0.27450374, 0.27450374],\n",
       "        [0.22957374, 0.22957374, 0.22957376],\n",
       "        ...,\n",
       "        [0.13026714, 0.13026705, 0.13026717],\n",
       "        [0.14238207, 0.14238216, 0.14238214],\n",
       "        [0.12258611, 0.12258614, 0.12258611]],\n",
       "\n",
       "       ...,\n",
       "\n",
       "       [[0.2981301 , 0.29813007, 0.2981301 ],\n",
       "        [0.304994  , 0.304994  , 0.304994  ],\n",
       "        [0.25623575, 0.25623575, 0.25623575],\n",
       "        ...,\n",
       "        [0.19605419, 0.19605419, 0.19605419],\n",
       "        [0.17292126, 0.17292126, 0.17292126],\n",
       "        [0.14330177, 0.14330177, 0.1433018 ]],\n",
       "\n",
       "       [[0.2958211 , 0.2958211 , 0.2958211 ],\n",
       "        [0.2931206 , 0.29312062, 0.2931206 ],\n",
       "        [0.26018026, 0.26018026, 0.26018026],\n",
       "        ...,\n",
       "        [0.17290878, 0.17290878, 0.17290878],\n",
       "        [0.15938333, 0.15938336, 0.15938336],\n",
       "        [0.15281844, 0.15281844, 0.1528184 ]],\n",
       "\n",
       "       [[0.3011096 , 0.30110964, 0.30110964],\n",
       "        [0.2898617 , 0.2898617 , 0.2898617 ],\n",
       "        [0.2565034 , 0.2565034 , 0.2565034 ],\n",
       "        ...,\n",
       "        [0.17041638, 0.1704164 , 0.1704164 ],\n",
       "        [0.18733934, 0.18733934, 0.18733934],\n",
       "        [0.12625703, 0.12625703, 0.12625705]]], dtype=float32)"
      ]
     },
     "execution_count": 12,
     "metadata": {},
     "output_type": "execute_result"
    }
   ],
   "source": [
    "decoded_frames = autoencoder.predict(X_train)\n",
    "decoded_frames[0]"
   ]
  },
  {
   "cell_type": "code",
   "execution_count": 11,
   "metadata": {},
   "outputs": [
    {
     "data": {
      "application/vnd.jupyter.widget-view+json": {
       "model_id": "c36628650c03418798f338414da1bf30",
       "version_major": 2,
       "version_minor": 0
      },
      "text/plain": [
       "interactive(children=(IntSlider(value=0, description='Frame:', max=25199), Output()), _dom_classes=('widget-in…"
      ]
     },
     "execution_count": 11,
     "metadata": {},
     "output_type": "execute_result"
    }
   ],
   "source": [
    "import matplotlib.pyplot as plt\n",
    "import ipywidgets as widgets\n",
    "from IPython.display import display\n",
    "\n",
    "def show_frame(frame_index):\n",
    "    plt.imshow(decoded_frames[frame_index].astype('uint8'))\n",
    "    plt.axis('off')\n",
    "    plt.show()\n",
    "\n",
    "# Create a slider to browse through the frames\n",
    "frame_slider = widgets.IntSlider(value=0, min=0, max=len(decoded_frames)-1, step=1, description='Frame:')\n",
    "\n",
    "# Display the widget\n",
    "widgets.interactive(show_frame, frame_index=frame_slider)\n"
   ]
  }
 ],
 "metadata": {
  "kernelspec": {
   "display_name": "Python 3",
   "language": "python",
   "name": "python3"
  },
  "language_info": {
   "codemirror_mode": {
    "name": "ipython",
    "version": 3
   },
   "file_extension": ".py",
   "mimetype": "text/x-python",
   "name": "python",
   "nbconvert_exporter": "python",
   "pygments_lexer": "ipython3",
   "version": "3.11.4"
  }
 },
 "nbformat": 4,
 "nbformat_minor": 2
}
