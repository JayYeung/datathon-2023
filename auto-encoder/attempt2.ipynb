{
 "cells": [
  {
   "cell_type": "code",
   "execution_count": 11,
   "metadata": {},
   "outputs": [
    {
     "name": "stdout",
     "output_type": "stream",
     "text": [
      "25200\n",
      "(128, 128)\n"
     ]
    }
   ],
   "source": [
    "import cv2\n",
    "import os\n",
    "import numpy as np\n",
    "\n",
    "directory_path = 'MCI/video_sequence'\n",
    "frame_list = []\n",
    "\n",
    "width = height = 128\n",
    "\n",
    "for filename in os.listdir(directory_path):\n",
    "    if filename.endswith(\".avi\"):\n",
    "        video_path = os.path.join(directory_path, filename)\n",
    "        cap = cv2.VideoCapture(video_path)\n",
    "\n",
    "        while cap.isOpened():\n",
    "            ret, frame = cap.read()\n",
    "            if not ret:\n",
    "                break\n",
    "\n",
    "            # Convert frame to grayscale\n",
    "            gray_frame = cv2.cvtColor(frame, cv2.COLOR_BGR2GRAY)\n",
    "\n",
    "            # Resize the frame\n",
    "            resized_frame = cv2.resize(gray_frame, (width, height))\n",
    "\n",
    "            # Add the frame to the list\n",
    "            frame_list.append(resized_frame)\n",
    "\n",
    "        cap.release()\n",
    "\n",
    "cv2.destroyAllWindows()\n",
    "\n",
    "# Checking the shape of the first frame in the list\n",
    "print(len(frame_list))\n",
    "print(frame_list[0].shape)  # Should output: (128, 128)"
   ]
  },
  {
   "cell_type": "code",
   "execution_count": 12,
   "metadata": {},
   "outputs": [],
   "source": [
    "frame_list = frame_list[330:660]"
   ]
  },
  {
   "cell_type": "code",
   "execution_count": 13,
   "metadata": {},
   "outputs": [
    {
     "name": "stdout",
     "output_type": "stream",
     "text": [
      "(330, 128, 128, 1)\n"
     ]
    }
   ],
   "source": [
    "# Convert list to NumPy array and add an extra dimension\n",
    "X_train = np.array(frame_list, dtype=np.float32)[..., np.newaxis]\n",
    "\n",
    "# Normalize the data to the range [0, 1]\n",
    "X_train = X_train / 255.0\n",
    "\n",
    "print(X_train.shape)  # Should output: (num_frames, 32, 32, 1)\n"
   ]
  },
  {
   "cell_type": "code",
   "execution_count": 14,
   "metadata": {},
   "outputs": [],
   "source": [
    "from tensorflow.keras.layers import Conv2D, Conv2DTranspose, Input, LeakyReLU, BatchNormalization, Reshape, Flatten, Dense\n",
    "from tensorflow.keras.models import Model\n",
    "\n",
    "def build_autoencoder(input_shape):\n",
    "    # Encoder\n",
    "    input_layer = Input(shape=input_shape)\n",
    "    x = Conv2D(32, (3, 3), strides=2, padding='same')(input_layer)\n",
    "    x = LeakyReLU(alpha=0.2)(x)\n",
    "    x = BatchNormalization()(x)\n",
    "\n",
    "    x = Conv2D(64, (3, 3), strides=2, padding='same')(x)\n",
    "    x = LeakyReLU(alpha=0.2)(x)\n",
    "    x = BatchNormalization()(x)\n",
    "\n",
    "    # Flatten and bottleneck\n",
    "    volume_size = x.shape\n",
    "    x = Flatten()(x)\n",
    "    latent = Dense(100)(x)  # Latent vector\n",
    "\n",
    "    # Decoder\n",
    "    x = Dense(np.prod(volume_size[1:]))(latent)\n",
    "    x = Reshape((volume_size[1], volume_size[2], volume_size[3]))(x)\n",
    "\n",
    "    x = Conv2DTranspose(64, (3, 3), strides=2, padding='same')(x)\n",
    "    x = LeakyReLU(alpha=0.2)(x)\n",
    "    x = BatchNormalization()(x)\n",
    "\n",
    "    x = Conv2DTranspose(32, (3, 3), strides=2, padding='same')(x)\n",
    "    x = LeakyReLU(alpha=0.2)(x)\n",
    "    x = BatchNormalization()(x)\n",
    "\n",
    "    output_layer = Conv2DTranspose(3, (3, 3), activation='sigmoid', padding='same')(x)\n",
    "\n",
    "    autoencoder = Model(input_layer, output_layer)\n",
    "    return autoencoder"
   ]
  },
  {
   "cell_type": "code",
   "execution_count": 15,
   "metadata": {},
   "outputs": [
    {
     "name": "stdout",
     "output_type": "stream",
     "text": [
      "Epoch 1/50\n",
      "11/11 [==============================] - 3s 194ms/step - loss: 0.0596\n",
      "Epoch 2/50\n",
      "11/11 [==============================] - 2s 184ms/step - loss: 0.0349\n",
      "Epoch 3/50\n",
      "11/11 [==============================] - 2s 177ms/step - loss: 0.0233\n",
      "Epoch 4/50\n",
      "11/11 [==============================] - 2s 180ms/step - loss: 0.0106\n",
      "Epoch 5/50\n",
      "11/11 [==============================] - 2s 190ms/step - loss: 0.0037\n",
      "Epoch 6/50\n",
      "11/11 [==============================] - 2s 191ms/step - loss: 0.0024\n",
      "Epoch 7/50\n",
      "11/11 [==============================] - 2s 183ms/step - loss: 0.0021\n",
      "Epoch 8/50\n",
      "11/11 [==============================] - 2s 181ms/step - loss: 0.0020\n",
      "Epoch 9/50\n",
      "11/11 [==============================] - 2s 175ms/step - loss: 0.0019\n",
      "Epoch 10/50\n",
      "11/11 [==============================] - 2s 179ms/step - loss: 0.0018\n",
      "Epoch 11/50\n",
      "11/11 [==============================] - 2s 177ms/step - loss: 0.0018\n",
      "Epoch 12/50\n",
      "11/11 [==============================] - 2s 175ms/step - loss: 0.0018\n",
      "Epoch 13/50\n",
      "11/11 [==============================] - 2s 182ms/step - loss: 0.0018\n",
      "Epoch 14/50\n",
      "11/11 [==============================] - 2s 181ms/step - loss: 0.0018\n",
      "Epoch 15/50\n",
      "11/11 [==============================] - 2s 178ms/step - loss: 0.0017\n",
      "Epoch 16/50\n",
      "11/11 [==============================] - 2s 192ms/step - loss: 0.0017\n",
      "Epoch 17/50\n",
      "11/11 [==============================] - 2s 181ms/step - loss: 0.0017\n",
      "Epoch 18/50\n",
      "11/11 [==============================] - 2s 179ms/step - loss: 0.0016\n",
      "Epoch 19/50\n",
      "11/11 [==============================] - 2s 180ms/step - loss: 0.0016\n",
      "Epoch 20/50\n",
      "11/11 [==============================] - 2s 184ms/step - loss: 0.0017\n",
      "Epoch 21/50\n",
      "11/11 [==============================] - 2s 179ms/step - loss: 0.0016\n",
      "Epoch 22/50\n",
      "11/11 [==============================] - 2s 177ms/step - loss: 0.0016\n",
      "Epoch 23/50\n",
      "11/11 [==============================] - 2s 178ms/step - loss: 0.0016\n",
      "Epoch 24/50\n",
      "11/11 [==============================] - 2s 176ms/step - loss: 0.0016\n",
      "Epoch 25/50\n",
      "11/11 [==============================] - 2s 194ms/step - loss: 0.0016\n",
      "Epoch 26/50\n",
      "11/11 [==============================] - 2s 177ms/step - loss: 0.0015\n",
      "Epoch 27/50\n",
      "11/11 [==============================] - 2s 179ms/step - loss: 0.0015\n",
      "Epoch 28/50\n",
      "11/11 [==============================] - 2s 178ms/step - loss: 0.0015\n",
      "Epoch 29/50\n",
      "11/11 [==============================] - 2s 180ms/step - loss: 0.0015\n",
      "Epoch 30/50\n",
      "11/11 [==============================] - 2s 179ms/step - loss: 0.0015\n",
      "Epoch 31/50\n",
      "11/11 [==============================] - 2s 177ms/step - loss: 0.0015\n",
      "Epoch 32/50\n",
      "11/11 [==============================] - 2s 180ms/step - loss: 0.0015\n",
      "Epoch 33/50\n",
      "11/11 [==============================] - 2s 199ms/step - loss: 0.0014\n",
      "Epoch 34/50\n",
      "11/11 [==============================] - 2s 201ms/step - loss: 0.0014\n",
      "Epoch 35/50\n",
      "11/11 [==============================] - 2s 193ms/step - loss: 0.0014\n",
      "Epoch 36/50\n",
      "11/11 [==============================] - 2s 191ms/step - loss: 0.0014\n",
      "Epoch 37/50\n",
      "11/11 [==============================] - 2s 195ms/step - loss: 0.0014\n",
      "Epoch 38/50\n",
      "11/11 [==============================] - 2s 189ms/step - loss: 0.0015\n",
      "Epoch 39/50\n",
      "11/11 [==============================] - 2s 185ms/step - loss: 0.0014\n",
      "Epoch 40/50\n",
      "11/11 [==============================] - 2s 194ms/step - loss: 0.0014\n",
      "Epoch 41/50\n",
      "11/11 [==============================] - 2s 212ms/step - loss: 0.0014\n",
      "Epoch 42/50\n",
      "11/11 [==============================] - 2s 194ms/step - loss: 0.0014\n",
      "Epoch 43/50\n",
      "11/11 [==============================] - 2s 188ms/step - loss: 0.0014\n",
      "Epoch 44/50\n",
      "11/11 [==============================] - 2s 194ms/step - loss: 0.0014\n",
      "Epoch 45/50\n",
      "11/11 [==============================] - 2s 202ms/step - loss: 0.0014\n",
      "Epoch 46/50\n",
      "11/11 [==============================] - 2s 184ms/step - loss: 0.0013\n",
      "Epoch 47/50\n",
      "11/11 [==============================] - 2s 187ms/step - loss: 0.0013\n",
      "Epoch 48/50\n",
      "11/11 [==============================] - 2s 185ms/step - loss: 0.0013\n",
      "Epoch 49/50\n",
      "11/11 [==============================] - 2s 196ms/step - loss: 0.0014\n",
      "Epoch 50/50\n",
      "11/11 [==============================] - 2s 197ms/step - loss: 0.0014\n"
     ]
    },
    {
     "data": {
      "text/plain": [
       "<keras.src.callbacks.History at 0x30068b050>"
      ]
     },
     "execution_count": 15,
     "metadata": {},
     "output_type": "execute_result"
    }
   ],
   "source": [
    "autoencoder = build_autoencoder(X_train.shape[1:])\n",
    "autoencoder.compile(optimizer='adam', loss='mse')\n",
    "\n",
    "# Train the autoencoder\n",
    "autoencoder.fit(X_train, X_train, epochs=50, batch_size=32)\n"
   ]
  },
  {
   "cell_type": "code",
   "execution_count": 18,
   "metadata": {},
   "outputs": [
    {
     "name": "stdout",
     "output_type": "stream",
     "text": [
      "11/11 [==============================] - 1s 68ms/step\n"
     ]
    },
    {
     "data": {
      "text/plain": [
       "(330, 128, 128, 3)"
      ]
     },
     "execution_count": 18,
     "metadata": {},
     "output_type": "execute_result"
    }
   ],
   "source": [
    "decoded_frames = autoencoder.predict(X_train)\n",
    "decoded_frames.shape"
   ]
  },
  {
   "cell_type": "code",
   "execution_count": 27,
   "metadata": {},
   "outputs": [
    {
     "data": {
      "application/vnd.jupyter.widget-view+json": {
       "model_id": "8942a20eb5e34cc4833dba4728142e67",
       "version_major": 2,
       "version_minor": 0
      },
      "text/plain": [
       "interactive(children=(IntSlider(value=0, description='Frame:', max=329), Output()), _dom_classes=('widget-inte…"
      ]
     },
     "execution_count": 27,
     "metadata": {},
     "output_type": "execute_result"
    }
   ],
   "source": [
    "import matplotlib.pyplot as plt\n",
    "import ipywidgets as widgets\n",
    "from IPython.display import display\n",
    "\n",
    "def show_frame(frame_index):\n",
    "    frame = decoded_frames[frame_index]\n",
    "\n",
    "    # Rescale if the frames are normalized\n",
    "    if frame.max() <= 1.0:\n",
    "        frame = frame * 255.0\n",
    "\n",
    "    # Use 'gray' color map if the images are grayscale\n",
    "    plt.imshow(frame.astype('uint8'), cmap='gray')\n",
    "    plt.axis('off')\n",
    "    plt.show()\n",
    "\n",
    "\n",
    "# Create a slider to browse through the frames\n",
    "frame_slider = widgets.IntSlider(value=0, min=0, max=len(decoded_frames)-1, step=1, description='Frame:')\n",
    "\n",
    "# Display the widget\n",
    "widgets.interactive(show_frame, frame_index=frame_slider)"
   ]
  },
  {
   "cell_type": "code",
   "execution_count": 20,
   "metadata": {},
   "outputs": [
    {
     "name": "stdout",
     "output_type": "stream",
     "text": [
      "[[[0.24179183 0.24582212 0.2546863 ]\n",
      "  [0.20297872 0.2197698  0.21230456]\n",
      "  [0.22108825 0.21824053 0.22062992]\n",
      "  ...\n",
      "  [0.22867098 0.24133006 0.21081477]\n",
      "  [0.04079739 0.02991896 0.03690413]\n",
      "  [0.03434381 0.02082683 0.03732532]]\n",
      "\n",
      " [[0.22667268 0.22095487 0.21701808]\n",
      "  [0.20176773 0.20186368 0.19682921]\n",
      "  [0.21521531 0.20943025 0.20439565]\n",
      "  ...\n",
      "  [0.22960635 0.2485736  0.23756473]\n",
      "  [0.03718255 0.01561518 0.00592444]\n",
      "  [0.01995436 0.00916524 0.01255686]]\n",
      "\n",
      " [[0.23113686 0.22385307 0.23353732]\n",
      "  [0.19081733 0.22018343 0.21761881]\n",
      "  [0.20311216 0.20996693 0.2144844 ]\n",
      "  ...\n",
      "  [0.21158509 0.22223361 0.20542642]\n",
      "  [0.00987412 0.01625542 0.01461765]\n",
      "  [0.01029321 0.00924378 0.00752059]]\n",
      "\n",
      " ...\n",
      "\n",
      " [[0.21102895 0.21085185 0.20779979]\n",
      "  [0.19104898 0.20000213 0.1969489 ]\n",
      "  [0.19528724 0.2043239  0.19911592]\n",
      "  ...\n",
      "  [0.20853238 0.22046512 0.21413812]\n",
      "  [0.00288159 0.0020274  0.00095103]\n",
      "  [0.0017644  0.00170999 0.00083506]]\n",
      "\n",
      " [[0.21537079 0.21337019 0.21005884]\n",
      "  [0.19165999 0.19269626 0.19490357]\n",
      "  [0.19116366 0.20066278 0.20923774]\n",
      "  ...\n",
      "  [0.21795124 0.21543889 0.2063475 ]\n",
      "  [0.00356056 0.00354982 0.00427537]\n",
      "  [0.00470229 0.00136401 0.0017247 ]]\n",
      "\n",
      " [[0.22717485 0.24135727 0.23373441]\n",
      "  [0.22003204 0.21360631 0.20800005]\n",
      "  [0.21332268 0.22022001 0.2133441 ]\n",
      "  ...\n",
      "  [0.23167375 0.22372708 0.25808343]\n",
      "  [0.00430558 0.01736782 0.01447668]\n",
      "  [0.02207646 0.04215022 0.01266292]]]\n",
      "0.5155308 8.128785e-05\n"
     ]
    }
   ],
   "source": [
    "print(decoded_frames[0])  # Check the first frame\n",
    "print(decoded_frames[0].max(), decoded_frames[0].min())  # Check the range of pixel values\n"
   ]
  },
  {
   "cell_type": "code",
   "execution_count": null,
   "metadata": {},
   "outputs": [],
   "source": []
  }
 ],
 "metadata": {
  "kernelspec": {
   "display_name": "Python 3",
   "language": "python",
   "name": "python3"
  },
  "language_info": {
   "codemirror_mode": {
    "name": "ipython",
    "version": 3
   },
   "file_extension": ".py",
   "mimetype": "text/x-python",
   "name": "python",
   "nbconvert_exporter": "python",
   "pygments_lexer": "ipython3",
   "version": "3.11.4"
  }
 },
 "nbformat": 4,
 "nbformat_minor": 2
}
