{
 "cells": [
  {
   "cell_type": "code",
   "execution_count": 2,
   "metadata": {},
   "outputs": [],
   "source": [
    "import cv2\n",
    "import os\n",
    "import numpy as np\n",
    "\n",
    "directory_path = 'MCI/video_sequence'\n",
    "frame_list = []\n",
    "\n",
    "width = height = 128\n",
    "\n",
    "for filename in os.listdir(directory_path):\n",
    "    if filename.endswith(\".avi\"):\n",
    "        video_path = os.path.join(directory_path, filename)\n",
    "        cap = cv2.VideoCapture(video_path)\n",
    "\n",
    "        while cap.isOpened():\n",
    "            ret, frame = cap.read()\n",
    "            if not ret:\n",
    "                break\n",
    "\n",
    "            # Convert frame to grayscale\n",
    "            gray_frame = cv2.cvtColor(frame, cv2.COLOR_BGR2GRAY)\n",
    "\n",
    "            # Resize the frame\n",
    "            resized_frame = cv2.resize(gray_frame, (width, height))\n",
    "\n",
    "            # Add the frame to the list\n",
    "            frame_list.append(resized_frame)\n",
    "\n",
    "        cap.release()\n"
   ]
  },
  {
   "cell_type": "code",
   "execution_count": 6,
   "metadata": {},
   "outputs": [],
   "source": [
    "frame_list = frame_list[330:660]"
   ]
  },
  {
   "cell_type": "code",
   "execution_count": 7,
   "metadata": {},
   "outputs": [
    {
     "data": {
      "application/vnd.jupyter.widget-view+json": {
       "model_id": "b0460ab196024688a708f9364dcba5ef",
       "version_major": 2,
       "version_minor": 0
      },
      "text/plain": [
       "interactive(children=(IntSlider(value=0, description='Frame:', max=329), Output()), _dom_classes=('widget-inte…"
      ]
     },
     "execution_count": 7,
     "metadata": {},
     "output_type": "execute_result"
    }
   ],
   "source": [
    "import matplotlib.pyplot as plt\n",
    "import ipywidgets as widgets\n",
    "from IPython.display import display\n",
    "\n",
    "def show_frame(frame_index):\n",
    "    plt.imshow(frame_list[frame_index], cmap='gray')\n",
    "    plt.axis('off')\n",
    "    plt.show()\n",
    "\n",
    "# Create a slider to browse through the frames\n",
    "frame_slider = widgets.IntSlider(value=0, min=0, max=len(frame_list)-1, step=1, description='Frame:')\n",
    "\n",
    "# Display the widget\n",
    "widgets.interactive(show_frame, frame_index=frame_slider)\n"
   ]
  },
  {
   "cell_type": "code",
   "execution_count": 5,
   "metadata": {},
   "outputs": [
    {
     "name": "stdout",
     "output_type": "stream",
     "text": [
      "[[73 74 71 ... 41  6  4]\n",
      " [77 70 70 ... 37  7  3]\n",
      " [83 76 81 ... 31 10 10]\n",
      " ...\n",
      " [79 80 76 ... 37  6  3]\n",
      " [86 75 92 ... 56  5  5]\n",
      " [80 81 66 ... 51  6  3]]\n",
      "147 0\n"
     ]
    }
   ],
   "source": [
    "print(frame_list[0])  # Check the first frame\n",
    "print(frame_list[0].max(), frame_list[0].min())  # Check the range of pixel values\n"
   ]
  },
  {
   "cell_type": "code",
   "execution_count": null,
   "metadata": {},
   "outputs": [],
   "source": []
  }
 ],
 "metadata": {
  "kernelspec": {
   "display_name": "Python 3",
   "language": "python",
   "name": "python3"
  },
  "language_info": {
   "codemirror_mode": {
    "name": "ipython",
    "version": 3
   },
   "file_extension": ".py",
   "mimetype": "text/x-python",
   "name": "python",
   "nbconvert_exporter": "python",
   "pygments_lexer": "ipython3",
   "version": "3.11.4"
  }
 },
 "nbformat": 4,
 "nbformat_minor": 2
}
